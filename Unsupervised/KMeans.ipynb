{
 "cells": [
  {
   "cell_type": "code",
   "execution_count": 1,
   "metadata": {},
   "outputs": [],
   "source": [
    "import pandas as pd\n",
    "from csv import reader\n",
    "from sklearn import preprocessing\n",
    "import matplotlib.pyplot as plt\n",
    "import random\n",
    "from math import sqrt\n",
    "import time\n",
    "from IPython.display import clear_output"
   ]
  },
  {
   "cell_type": "code",
   "execution_count": 2,
   "metadata": {},
   "outputs": [],
   "source": [
    "data = pd.read_csv(\"cricketers.csv\", delimiter='\\t')"
   ]
  },
  {
   "cell_type": "code",
   "execution_count": 3,
   "metadata": {},
   "outputs": [
    {
     "data": {
      "text/html": [
       "<div>\n",
       "<style scoped>\n",
       "    .dataframe tbody tr th:only-of-type {\n",
       "        vertical-align: middle;\n",
       "    }\n",
       "\n",
       "    .dataframe tbody tr th {\n",
       "        vertical-align: top;\n",
       "    }\n",
       "\n",
       "    .dataframe thead th {\n",
       "        text-align: right;\n",
       "    }\n",
       "</style>\n",
       "<table border=\"1\" class=\"dataframe\">\n",
       "  <thead>\n",
       "    <tr style=\"text-align: right;\">\n",
       "      <th></th>\n",
       "      <th>PLAYER</th>\n",
       "      <th>matches_played</th>\n",
       "      <th>innings_batted</th>\n",
       "      <th>runs_scored</th>\n",
       "      <th>highest_runs</th>\n",
       "      <th>balls_faced</th>\n",
       "      <th>average_runs</th>\n",
       "      <th>strike_rate</th>\n",
       "      <th>innings_bowled</th>\n",
       "      <th>overs</th>\n",
       "      <th>runs_given</th>\n",
       "      <th>wickets_obtained</th>\n",
       "      <th>average_runs_per_wicket</th>\n",
       "      <th>bowling_economy</th>\n",
       "    </tr>\n",
       "  </thead>\n",
       "  <tbody>\n",
       "    <tr>\n",
       "      <th>0</th>\n",
       "      <td>Aaron Finch</td>\n",
       "      <td>10</td>\n",
       "      <td>9</td>\n",
       "      <td>134</td>\n",
       "      <td>46</td>\n",
       "      <td>100</td>\n",
       "      <td>16.75</td>\n",
       "      <td>144.00</td>\n",
       "      <td>0</td>\n",
       "      <td>0.0</td>\n",
       "      <td>0</td>\n",
       "      <td>0</td>\n",
       "      <td>0.0</td>\n",
       "      <td>0.0</td>\n",
       "    </tr>\n",
       "    <tr>\n",
       "      <th>1</th>\n",
       "      <td>AB de Villiers</td>\n",
       "      <td>12</td>\n",
       "      <td>11</td>\n",
       "      <td>480</td>\n",
       "      <td>90</td>\n",
       "      <td>275</td>\n",
       "      <td>53.33</td>\n",
       "      <td>174.54</td>\n",
       "      <td>0</td>\n",
       "      <td>0.0</td>\n",
       "      <td>0</td>\n",
       "      <td>0</td>\n",
       "      <td>0.0</td>\n",
       "      <td>0.0</td>\n",
       "    </tr>\n",
       "    <tr>\n",
       "      <th>2</th>\n",
       "      <td>Abhishek Sharma</td>\n",
       "      <td>3</td>\n",
       "      <td>3</td>\n",
       "      <td>63</td>\n",
       "      <td>46</td>\n",
       "      <td>33</td>\n",
       "      <td>63.00</td>\n",
       "      <td>190.90</td>\n",
       "      <td>0</td>\n",
       "      <td>0.0</td>\n",
       "      <td>0</td>\n",
       "      <td>0</td>\n",
       "      <td>0.0</td>\n",
       "      <td>0.0</td>\n",
       "    </tr>\n",
       "    <tr>\n",
       "      <th>3</th>\n",
       "      <td>Ajinkya Rahane</td>\n",
       "      <td>15</td>\n",
       "      <td>14</td>\n",
       "      <td>370</td>\n",
       "      <td>65</td>\n",
       "      <td>313</td>\n",
       "      <td>28.46</td>\n",
       "      <td>118.21</td>\n",
       "      <td>0</td>\n",
       "      <td>0.0</td>\n",
       "      <td>0</td>\n",
       "      <td>0</td>\n",
       "      <td>0.0</td>\n",
       "      <td>0.0</td>\n",
       "    </tr>\n",
       "    <tr>\n",
       "      <th>4</th>\n",
       "      <td>Alex Hales</td>\n",
       "      <td>6</td>\n",
       "      <td>6</td>\n",
       "      <td>148</td>\n",
       "      <td>45</td>\n",
       "      <td>118</td>\n",
       "      <td>24.66</td>\n",
       "      <td>125.42</td>\n",
       "      <td>0</td>\n",
       "      <td>0.0</td>\n",
       "      <td>0</td>\n",
       "      <td>0</td>\n",
       "      <td>0.0</td>\n",
       "      <td>0.0</td>\n",
       "    </tr>\n",
       "  </tbody>\n",
       "</table>\n",
       "</div>"
      ],
      "text/plain": [
       "            PLAYER  matches_played  innings_batted  runs_scored  highest_runs  \\\n",
       "0      Aaron Finch              10               9          134            46   \n",
       "1   AB de Villiers              12              11          480            90   \n",
       "2  Abhishek Sharma               3               3           63            46   \n",
       "3   Ajinkya Rahane              15              14          370            65   \n",
       "4       Alex Hales               6               6          148            45   \n",
       "\n",
       "   balls_faced  average_runs  strike_rate  innings_bowled  overs  runs_given  \\\n",
       "0          100         16.75       144.00               0    0.0           0   \n",
       "1          275         53.33       174.54               0    0.0           0   \n",
       "2           33         63.00       190.90               0    0.0           0   \n",
       "3          313         28.46       118.21               0    0.0           0   \n",
       "4          118         24.66       125.42               0    0.0           0   \n",
       "\n",
       "   wickets_obtained  average_runs_per_wicket   bowling_economy   \n",
       "0                 0                       0.0               0.0  \n",
       "1                 0                       0.0               0.0  \n",
       "2                 0                       0.0               0.0  \n",
       "3                 0                       0.0               0.0  \n",
       "4                 0                       0.0               0.0  "
      ]
     },
     "execution_count": 3,
     "metadata": {},
     "output_type": "execute_result"
    }
   ],
   "source": [
    "data.head()"
   ]
  },
  {
   "cell_type": "code",
   "execution_count": 4,
   "metadata": {},
   "outputs": [
    {
     "data": {
      "text/plain": [
       "Index(['PLAYER', 'matches_played', 'innings_batted', 'runs_scored',\n",
       "       'highest_runs', 'balls_faced', 'average_runs', 'strike_rate',\n",
       "       'innings_bowled', 'overs', 'runs_given', 'wickets_obtained',\n",
       "       'average_runs_per_wicket ', 'bowling_economy '],\n",
       "      dtype='object')"
      ]
     },
     "execution_count": 4,
     "metadata": {},
     "output_type": "execute_result"
    }
   ],
   "source": [
    "data.columns"
   ]
  },
  {
   "cell_type": "code",
   "execution_count": 5,
   "metadata": {},
   "outputs": [],
   "source": [
    "data = data.rename(columns = {'bowling_economy ' : 'bowling_economy'})"
   ]
  },
  {
   "cell_type": "code",
   "execution_count": 6,
   "metadata": {},
   "outputs": [
    {
     "data": {
      "text/plain": [
       "PLAYER                       object\n",
       "matches_played                int64\n",
       "innings_batted                int64\n",
       "runs_scored                   int64\n",
       "highest_runs                  int64\n",
       "balls_faced                   int64\n",
       "average_runs                float64\n",
       "strike_rate                 float64\n",
       "innings_bowled                int64\n",
       "overs                       float64\n",
       "runs_given                    int64\n",
       "wickets_obtained              int64\n",
       "average_runs_per_wicket     float64\n",
       "bowling_economy             float64\n",
       "dtype: object"
      ]
     },
     "execution_count": 6,
     "metadata": {},
     "output_type": "execute_result"
    }
   ],
   "source": [
    "data.dtypes"
   ]
  },
  {
   "cell_type": "code",
   "execution_count": 7,
   "metadata": {},
   "outputs": [
    {
     "data": {
      "text/plain": [
       "(109, 14)"
      ]
     },
     "execution_count": 7,
     "metadata": {},
     "output_type": "execute_result"
    }
   ],
   "source": [
    "data.shape"
   ]
  },
  {
   "cell_type": "code",
   "execution_count": 8,
   "metadata": {},
   "outputs": [
    {
     "name": "stdout",
     "output_type": "stream",
     "text": [
      "Empty DataFrame\n",
      "Columns: [PLAYER, matches_played, innings_batted, runs_scored, highest_runs, balls_faced, average_runs, strike_rate, innings_bowled, overs, runs_given, wickets_obtained, average_runs_per_wicket , bowling_economy]\n",
      "Index: []\n"
     ]
    }
   ],
   "source": [
    "duplicate_data = data[data.duplicated()]\n",
    "print(duplicate_data)"
   ]
  },
  {
   "cell_type": "code",
   "execution_count": 9,
   "metadata": {},
   "outputs": [
    {
     "name": "stdout",
     "output_type": "stream",
     "text": [
      "PLAYER                      0\n",
      "matches_played              0\n",
      "innings_batted              0\n",
      "runs_scored                 0\n",
      "highest_runs                0\n",
      "balls_faced                 0\n",
      "average_runs                0\n",
      "strike_rate                 0\n",
      "innings_bowled              0\n",
      "overs                       0\n",
      "runs_given                  0\n",
      "wickets_obtained            0\n",
      "average_runs_per_wicket     0\n",
      "bowling_economy             0\n",
      "dtype: int64\n"
     ]
    }
   ],
   "source": [
    "print(data.isnull().sum())"
   ]
  },
  {
   "cell_type": "code",
   "execution_count": 10,
   "metadata": {},
   "outputs": [
    {
     "name": "stdout",
     "output_type": "stream",
     "text": [
      "[100 101 102 103 104 105 106 107 108]\n",
      "[]\n"
     ]
    }
   ],
   "source": [
    "index_list = data[data['matches_played'] == 0].index.values\n",
    "print(index_list)\n",
    "for index in index_list:\n",
    "#     print(data.loc[index, 'innings_batted'])\n",
    "    if data.loc[index, 'innings_batted'] >= data.loc[index, 'innings_bowled']:\n",
    "        data.loc[index, 'matches_played'] = data.loc[index, 'innings_batted']\n",
    "    else:\n",
    "        data.loc[index, 'matches_played'] = data.loc[index, 'innings_bowled']\n",
    "index_list = data[data['matches_played'] == 0].index.values\n",
    "print(index_list)"
   ]
  },
  {
   "cell_type": "code",
   "execution_count": 11,
   "metadata": {},
   "outputs": [
    {
     "data": {
      "text/html": [
       "<div>\n",
       "<style scoped>\n",
       "    .dataframe tbody tr th:only-of-type {\n",
       "        vertical-align: middle;\n",
       "    }\n",
       "\n",
       "    .dataframe tbody tr th {\n",
       "        vertical-align: top;\n",
       "    }\n",
       "\n",
       "    .dataframe thead th {\n",
       "        text-align: right;\n",
       "    }\n",
       "</style>\n",
       "<table border=\"1\" class=\"dataframe\">\n",
       "  <thead>\n",
       "    <tr style=\"text-align: right;\">\n",
       "      <th></th>\n",
       "      <th>PLAYER</th>\n",
       "      <th>matches_played</th>\n",
       "      <th>innings_batted</th>\n",
       "      <th>runs_scored</th>\n",
       "      <th>highest_runs</th>\n",
       "      <th>balls_faced</th>\n",
       "      <th>average_runs</th>\n",
       "      <th>strike_rate</th>\n",
       "      <th>innings_bowled</th>\n",
       "      <th>overs</th>\n",
       "      <th>runs_given</th>\n",
       "      <th>wickets_obtained</th>\n",
       "      <th>average_runs_per_wicket</th>\n",
       "      <th>bowling_economy</th>\n",
       "    </tr>\n",
       "  </thead>\n",
       "  <tbody>\n",
       "    <tr>\n",
       "      <th>108</th>\n",
       "      <td>Ben Laughlin</td>\n",
       "      <td>7</td>\n",
       "      <td>0</td>\n",
       "      <td>0</td>\n",
       "      <td>0</td>\n",
       "      <td>0</td>\n",
       "      <td>0.0</td>\n",
       "      <td>0.0</td>\n",
       "      <td>7</td>\n",
       "      <td>21.0</td>\n",
       "      <td>212</td>\n",
       "      <td>9</td>\n",
       "      <td>22.44</td>\n",
       "      <td>10.04</td>\n",
       "    </tr>\n",
       "  </tbody>\n",
       "</table>\n",
       "</div>"
      ],
      "text/plain": [
       "           PLAYER  matches_played  innings_batted  runs_scored  highest_runs  \\\n",
       "108  Ben Laughlin               7               0            0             0   \n",
       "\n",
       "     balls_faced  average_runs  strike_rate  innings_bowled  overs  \\\n",
       "108            0           0.0          0.0               7   21.0   \n",
       "\n",
       "     runs_given  wickets_obtained  average_runs_per_wicket   bowling_economy  \n",
       "108         212                 9                     22.44            10.04  "
      ]
     },
     "execution_count": 11,
     "metadata": {},
     "output_type": "execute_result"
    }
   ],
   "source": [
    "data.loc[[108]]"
   ]
  },
  {
   "cell_type": "code",
   "execution_count": 12,
   "metadata": {},
   "outputs": [
    {
     "name": "stdout",
     "output_type": "stream",
     "text": [
      "[]\n",
      "[]\n"
     ]
    }
   ],
   "source": [
    "index_list = data[(data['strike_rate'] == 0.0) & (data['innings_batted'] != 0)].index.values\n",
    "print(index_list)\n",
    "index_list = data[(data['bowling_economy'] == 0.0) & (data['innings_bowled'] != 0)].index.values\n",
    "print(index_list)"
   ]
  },
  {
   "cell_type": "code",
   "execution_count": 13,
   "metadata": {},
   "outputs": [],
   "source": [
    "data.drop(['PLAYER'], 1, inplace=True)"
   ]
  },
  {
   "cell_type": "code",
   "execution_count": 14,
   "metadata": {},
   "outputs": [
    {
     "data": {
      "text/plain": [
       "(109, 13)"
      ]
     },
     "execution_count": 14,
     "metadata": {},
     "output_type": "execute_result"
    }
   ],
   "source": [
    "data.shape"
   ]
  },
  {
   "cell_type": "code",
   "execution_count": 15,
   "metadata": {},
   "outputs": [],
   "source": [
    "normaliser = preprocessing.MinMaxScaler(feature_range=(0,1))\n",
    "data[['average_runs', 'bowling_economy']] = normaliser.fit_transform(data[['average_runs', 'bowling_economy']])\n"
   ]
  },
  {
   "cell_type": "code",
   "execution_count": 16,
   "metadata": {},
   "outputs": [
    {
     "name": "stdout",
     "output_type": "stream",
     "text": [
      "matches_played\n",
      "innings_batted\n",
      "runs_scored\n",
      "highest_runs\n",
      "balls_faced\n",
      "average_runs\n",
      "strike_rate\n",
      "innings_bowled\n",
      "overs\n",
      "runs_given\n",
      "wickets_obtained\n",
      "average_runs_per_wicket \n",
      "bowling_economy\n"
     ]
    }
   ],
   "source": [
    "for row in data:\n",
    "    print(row)"
   ]
  },
  {
   "cell_type": "code",
   "execution_count": 17,
   "metadata": {},
   "outputs": [
    {
     "data": {
      "text/plain": [
       "<matplotlib.collections.PathCollection at 0x12255df50>"
      ]
     },
     "execution_count": 17,
     "metadata": {},
     "output_type": "execute_result"
    },
    {
     "data": {
      "image/png": "[encoded data removed]",
      "text/plain": [
       "<Figure size 432x288 with 1 Axes>"
      ]
     },
     "metadata": {
      "needs_background": "light"
     },
     "output_type": "display_data"
    }
   ],
   "source": [
    "plt.scatter(data['average_runs'], data['bowling_economy'])"
   ]
  },
  {
   "cell_type": "code",
   "execution_count": 18,
   "metadata": {},
   "outputs": [
    {
     "name": "stdout",
     "output_type": "stream",
     "text": [
      "[(0.6575089036547916, 0.9344204427394276), (0.9177865825017857, 0.9901543125587883), (0.5959365256671536, 0.3537260562928467), (0.07706133407904725, 0.5489465785612366), (0.9544122974986851, 0.6962817596553355)]\n"
     ]
    }
   ],
   "source": [
    "centroids_position = [(random.random(),random.random()),(random.random(),random.random()),(random.random(),random.random()),(random.random(),random.random()),(random.random(),random.random())]\n",
    "centroids_label = ['A', 'B', 'C', 'D', 'E']\n",
    "colors = (\"red\", \"green\", \"blue\", \"orange\", \"cyan\")\n",
    "print(centroids_position)"
   ]
  },
  {
   "cell_type": "code",
   "execution_count": 19,
   "metadata": {},
   "outputs": [],
   "source": [
    "data['cluster'] = \"\""
   ]
  },
  {
   "cell_type": "code",
   "execution_count": 20,
   "metadata": {},
   "outputs": [],
   "source": [
    "def euclidean_calculation(pos1, pos2):\n",
    "    return sqrt( ((pos1[0] - pos2[0]) ** 2) + ((pos1[1] - pos2[1]) ** 2) )"
   ]
  },
  {
   "cell_type": "code",
   "execution_count": 21,
   "metadata": {},
   "outputs": [],
   "source": [
    "def draw_graph():\n",
    "    plt.figure(figsize=(5,5))\n",
    "    for index in range(k):\n",
    "        plt.scatter(x=data.loc[data['cluster']==centroids_label[index], 'average_runs'], \n",
    "                    y=data.loc[data['cluster']==centroids_label[index],'bowling_economy'], \n",
    "                    color=colors[index], \n",
    "                    alpha=0.7)\n",
    "\n",
    "\n",
    "        plt.annotate(centroids_label[index], \n",
    "                     centroids_position[index],\n",
    "                     horizontalalignment='center',\n",
    "                     verticalalignment='center',\n",
    "                     size=20, weight='bold',\n",
    "                     color=colors[index]) \n",
    "    plt.show()"
   ]
  },
  {
   "cell_type": "code",
   "execution_count": null,
   "metadata": {},
   "outputs": [
    {
     "data": {
      "image/png": "[encoded data removed]",
      "text/plain": [
       "<Figure size 360x360 with 1 Axes>"
      ]
     },
     "metadata": {
      "needs_background": "light"
     },
     "output_type": "display_data"
    }
   ],
   "source": [
    "continue_flag = True\n",
    "max_iter = 20\n",
    "counter = 1\n",
    "k = 5\n",
    "while continue_flag:\n",
    "    for index in range(len(data)):\n",
    "        distance_list = []\n",
    "        for centroid_index in range(k):\n",
    "            distance_list.append(euclidean_calculation( (data.loc[index, 'average_runs'],data.loc[index, 'bowling_economy']), centroids_position[centroid_index]))\n",
    "        min_index = distance_list.index(min(distance_list))\n",
    "        data.loc[index, 'cluster'] = centroids_label[min_index]\n",
    "   \n",
    "    clear_output(wait=True)\n",
    "    draw_graph()\n",
    "    time.sleep(3)\n",
    "\n",
    "    prev_centroids_pos = list(centroids_position)\n",
    "    for centroid_index in range(k):\n",
    "        centroids_position[centroid_index] = (data[data['cluster'] ==  centroids_label[centroid_index]][\"average_runs\"].mean() , data[data['cluster'] ==  centroids_label[centroid_index]][\"bowling_economy\"].mean())\n",
    "\n",
    "    for centroid_index in range(k):\n",
    "#         print((centroids_position[centroid_index][0] - prev_centroids_pos[centroid_index][0]), (centroids_position[centroid_index][1] - prev_centroids_pos[centroid_index][1]))\n",
    "        if ((centroids_position[centroid_index][0] - prev_centroids_pos[centroid_index][0]) != 0.0 or ((centroids_position[centroid_index][1] - prev_centroids_pos[centroid_index][1]) != 0.0)):\n",
    "            continue_flag = True\n",
    "        else:\n",
    "            continue_flag = False\n",
    "        if continue_flag:\n",
    "            break\n",
    "    if counter > max_iter:\n",
    "        break\n",
    "    counter+=1\n",
    "        \n",
    "    "
   ]
  },
  {
   "cell_type": "code",
   "execution_count": null,
   "metadata": {},
   "outputs": [],
   "source": []
  }
 ],
 "metadata": {
  "kernelspec": {
   "display_name": "Python 3",
   "language": "python",
   "name": "python3"
  },
  "language_info": {
   "codemirror_mode": {
    "name": "ipython",
    "version": 3
   },
   "file_extension": ".py",
   "mimetype": "text/x-python",
   "name": "python",
   "nbconvert_exporter": "python",
   "pygments_lexer": "ipython3",
   "version": "3.7.7"
  }
 },
 "nbformat": 4,
 "nbformat_minor": 4
}
