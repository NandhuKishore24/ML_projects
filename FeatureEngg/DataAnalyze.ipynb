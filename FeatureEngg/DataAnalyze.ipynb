{
 "cells": [
  {
   "cell_type": "code",
   "execution_count": 1,
   "metadata": {},
   "outputs": [],
   "source": [
    "# import statements\n",
    "\n",
    "import pandas as pd"
   ]
  },
  {
   "cell_type": "code",
   "execution_count": 2,
   "metadata": {},
   "outputs": [],
   "source": [
    "# Reading csv files and storing\n",
    "\n",
    "data_source1 = pd.read_csv(\"bollywood.csv\")\n",
    "data_source2 = pd.read_csv(\"bollywood - 2.csv\")"
   ]
  },
  {
   "cell_type": "code",
   "execution_count": 3,
   "metadata": {},
   "outputs": [],
   "source": [
    "# dropping the ID column since it is same as index\n",
    "\n",
    "data_source1.drop(['No'], axis=1, inplace=True)\n",
    "data_source2.drop(['Movie_ID'], axis=1, inplace=True)"
   ]
  },
  {
   "cell_type": "code",
   "execution_count": 4,
   "metadata": {},
   "outputs": [],
   "source": [
    "# Changing the column names to match in both files\n",
    "\n",
    "data_source1=data_source1.rename(columns={'RelDate': 'Release_Date',\n",
    "                                          'MovieName': 'Movie_Name',\n",
    "                                          'ReleaseTime': 'Release_Time',\n",
    "                                          'YoutubeViews': 'Youtube_Views',\n",
    "                                          'YoutubeLikes': 'Youtube_Likes',\n",
    "                                          'YoutubeDislikes': 'Youtube_Dislikes',\n",
    "                                          'Budget': 'Budget_in_Crore',\n",
    "                                          'BoxOfficeCollection': 'BoxOfficeCollection_in_Crore'})\n",
    "data_source2=data_source2.rename(columns={'BudgetCr': 'Budget_in_Crore',\n",
    "                                          'BoxOfficeCollectionCr': 'BoxOfficeCollection_in_Crore'})"
   ]
  },
  {
   "cell_type": "code",
   "execution_count": 5,
   "metadata": {},
   "outputs": [
    {
     "name": "stdout",
     "output_type": "stream",
     "text": [
      "Initial Shape\n",
      "(51, 10)\n",
      "(99, 9)\n"
     ]
    }
   ],
   "source": [
    "print(\"Initial Shape\")\n",
    "print(data_source1.shape)\n",
    "print(data_source2.shape)"
   ]
  },
  {
   "cell_type": "markdown",
   "metadata": {},
   "source": [
    "### Q1. Identify and rectify the eight prominent data quality issues present in the given datasets."
   ]
  },
  {
   "cell_type": "code",
   "execution_count": 6,
   "metadata": {},
   "outputs": [],
   "source": [
    "# Method to remove duplicate values\n",
    "\n",
    "def duplicate_removal(df):\n",
    "    duplicate_rows = df[df.duplicated()]\n",
    "    if not duplicate_rows.empty:\n",
    "        df.drop_duplicates(inplace=True)\n",
    "    print(\"Shape After remove of duplicates {}\".format(df.shape))\n",
    "    return df"
   ]
  },
  {
   "cell_type": "code",
   "execution_count": 7,
   "metadata": {},
   "outputs": [],
   "source": [
    "#method to check for null values and fill the values accordingly\n",
    "\n",
    "def null_check(df):\n",
    "    if df.isnull().sum().sum() != 0:\n",
    "        print(df.isnull().sum())\n",
    "        index_list = df[df['Youtube_Likes'].isnull()].index.tolist()\n",
    "        for index in index_list:\n",
    "            new_value = df.loc[index, 'YoutubeLikeDislikes'] - df.loc[index, 'Youtube_Dislikes']\n",
    "            df.loc[index, 'Youtube_Likes'] = new_value\n",
    "        index_list = df[df['Youtube_Dislikes'].isnull()].index.tolist()\n",
    "        for index in index_list:\n",
    "            new_value = df.loc[index, 'YoutubeLikeDislikes'] - df.loc[index, 'Youtube_Likes']\n",
    "            df.loc[index, 'Youtube_Dislikes'] = new_value\n",
    "        return df\n",
    "    else:\n",
    "        print(\"No null values found\")\n",
    "        return df"
   ]
  },
  {
   "cell_type": "code",
   "execution_count": 8,
   "metadata": {},
   "outputs": [],
   "source": [
    "# method to remove unwanted substrings\n",
    "def substring_removal(df, sub):\n",
    "    if sub == \"cr\":\n",
    "        df[\"Budget_in_Crore\"] = df[\"Budget_in_Crore\"].str.replace(sub, \"\", case=False)\n",
    "        df[\"BoxOfficeCollection_in_Crore\"] = df[\"BoxOfficeCollection_in_Crore\"].str.replace(sub, \"\", case=False)\n",
    "    if sub == \"Genre\":\n",
    "        df[\"Genre\"] = df[\"Genre\"].str.replace(sub, \"\", case=False)\n",
    "    return df"
   ]
  },
  {
   "cell_type": "code",
   "execution_count": 9,
   "metadata": {},
   "outputs": [],
   "source": [
    "# Converting the data types to the right format\n",
    "def datatype_conversion(df):\n",
    "    df['Budget_in_Crore'] = pd.to_numeric(df['Budget_in_Crore'])\n",
    "    df['Genre'] = df['Genre'].astype(str)\n",
    "    df['BoxOfficeCollection_in_Crore'] = pd.to_numeric(df['BoxOfficeCollection_in_Crore'])\n",
    "    try:\n",
    "        df['Release_Date'] = pd.to_datetime(df['Release_Date'], errors=\"raise\", format='%d-%b-%Y')\n",
    "    except:\n",
    "        df['Release_Date'] = pd.to_datetime(df['Release_Date'], errors=\"raise\", infer_datetime_format=True)\n",
    "    return df"
   ]
  },
  {
   "cell_type": "code",
   "execution_count": 10,
   "metadata": {},
   "outputs": [],
   "source": [
    "# performing Release time mapping to sync both files\n",
    "\n",
    "def data_mapping(df):\n",
    "    mapping = {'FS': 1, 'HS': 2, 'LW': 3, 'N': 4}\n",
    "    df.Release_Time = [mapping[item] for item in df.Release_Time]\n",
    "    return df"
   ]
  },
  {
   "cell_type": "code",
   "execution_count": 11,
   "metadata": {},
   "outputs": [
    {
     "name": "stdout",
     "output_type": "stream",
     "text": [
      "Shape After remove of duplicates (51, 10)\n",
      "Shape After remove of duplicates (99, 9)\n"
     ]
    }
   ],
   "source": [
    "# Removing duplicate rows if any\n",
    "data_source1 = duplicate_removal(data_source1)\n",
    "data_source2 = duplicate_removal(data_source2)"
   ]
  },
  {
   "cell_type": "code",
   "execution_count": 12,
   "metadata": {},
   "outputs": [
    {
     "name": "stdout",
     "output_type": "stream",
     "text": [
      "Release_Date                    0\n",
      "Movie_Name                      0\n",
      "Release_Time                    0\n",
      "Genre                           0\n",
      "Budget_in_Crore                 0\n",
      "BoxOfficeCollection_in_Crore    0\n",
      "Youtube_Views                   0\n",
      "Youtube_Likes                   1\n",
      "Youtube_Dislikes                3\n",
      "YoutubeLikeDislikes             0\n",
      "dtype: int64\n",
      "No null values found\n",
      "No null values found\n"
     ]
    }
   ],
   "source": [
    "# Performing null check and providing values\n",
    "data_source1 = null_check(data_source1)\n",
    "data_source1 = null_check(data_source1)\n",
    "\n",
    "data_source2 = null_check(data_source2)"
   ]
  },
  {
   "cell_type": "code",
   "execution_count": 13,
   "metadata": {},
   "outputs": [],
   "source": [
    "# dropping the odd out column after used to fill the null values in YoutubeLike & YoutubeDislikes field\n",
    "\n",
    "data_source1.drop(['YoutubeLikeDislikes'], axis=1, inplace=True)"
   ]
  },
  {
   "cell_type": "code",
   "execution_count": 14,
   "metadata": {},
   "outputs": [],
   "source": [
    "# performing substring removal\n",
    "data_source1 = substring_removal(data_source1, \"cr\")\n",
    "data_source1 = substring_removal(data_source1, \"Genre\")"
   ]
  },
  {
   "cell_type": "code",
   "execution_count": 15,
   "metadata": {},
   "outputs": [],
   "source": [
    "# correcting the typo mistakes.\n",
    "data_source1['Release_Date'] = data_source1['Release_Date'].replace('Sqp-19-2014', 'Sep-19-2014')\n",
    "data_source1['Release_Date'] = data_source1['Release_Date'].replace('Jum-27-2014', 'Jun-27-2014')\n",
    "data_source1['Release_Date'] = data_source1['Release_Date'].replace('juu-6-2014', 'jun-6-2014')\n",
    "data_source1['Release_Date'] = data_source1['Release_Date'].replace('Feb-21-204', 'Feb-21-2014')\n",
    "data_source1[\"Release_Time\"] = data_source1[\"Release_Time\"].replace(44,4)"
   ]
  },
  {
   "cell_type": "code",
   "execution_count": 16,
   "metadata": {},
   "outputs": [],
   "source": [
    "# performing data mapping for release time column in file 2\n",
    "data_source2 = data_mapping(data_source2)"
   ]
  },
  {
   "cell_type": "code",
   "execution_count": 17,
   "metadata": {},
   "outputs": [],
   "source": [
    "data_source1 = datatype_conversion(data_source1)\n",
    "data_source2 = datatype_conversion(data_source2)"
   ]
  },
  {
   "cell_type": "code",
   "execution_count": 18,
   "metadata": {},
   "outputs": [
    {
     "name": "stdout",
     "output_type": "stream",
     "text": [
      "Final Shape\n",
      "(51, 9)\n",
      "(99, 9)\n"
     ]
    }
   ],
   "source": [
    "print(\"Final Shape\")\n",
    "print(data_source1.shape)\n",
    "print(data_source2.shape)"
   ]
  },
  {
   "cell_type": "code",
   "execution_count": 19,
   "metadata": {},
   "outputs": [
    {
     "name": "stdout",
     "output_type": "stream",
     "text": [
      "Shape after mergeing both data (150, 9)\n"
     ]
    }
   ],
   "source": [
    "# Merging 2 dataframes\n",
    "data_source = pd.concat([data_source1, data_source2], ignore_index=True)\n",
    "print(\"Shape after mergeing both data {}\".format(data_source.shape))"
   ]
  },
  {
   "cell_type": "code",
   "execution_count": 20,
   "metadata": {},
   "outputs": [
    {
     "name": "stdout",
     "output_type": "stream",
     "text": [
      "Shape after removing duplicates post merge (149, 9)\n"
     ]
    }
   ],
   "source": [
    "# Dropping duplicates w.r.t movie name post merge\n",
    "data_source = data_source.drop_duplicates(subset='Movie_Name', keep=\"first\")\n",
    "data_source['Genre'] = data_source['Genre'].str.strip()\n",
    "print(\"Shape after removing duplicates post merge {}\".format(data_source.shape))"
   ]
  },
  {
   "cell_type": "markdown",
   "metadata": {},
   "source": [
    "### Q2. How many records are present in the dataset? Print the metadata information of dataset?"
   ]
  },
  {
   "cell_type": "code",
   "execution_count": 21,
   "metadata": {},
   "outputs": [
    {
     "name": "stdout",
     "output_type": "stream",
     "text": [
      "<class 'pandas.core.frame.DataFrame'>\n",
      "Int64Index: 149 entries, 0 to 149\n",
      "Data columns (total 9 columns):\n",
      " #   Column                        Dtype         \n",
      "---  ------                        -----         \n",
      " 0   Release_Date                  datetime64[ns]\n",
      " 1   Movie_Name                    object        \n",
      " 2   Release_Time                  int64         \n",
      " 3   Genre                         object        \n",
      " 4   Budget_in_Crore               int64         \n",
      " 5   BoxOfficeCollection_in_Crore  float64       \n",
      " 6   Youtube_Views                 int64         \n",
      " 7   Youtube_Likes                 float64       \n",
      " 8   Youtube_Dislikes              float64       \n",
      "dtypes: datetime64[ns](1), float64(3), int64(3), object(2)\n",
      "memory usage: 11.6+ KB\n",
      "None\n"
     ]
    }
   ],
   "source": [
    "print(data_source.info(verbose=True, null_counts=False))"
   ]
  },
  {
   "cell_type": "markdown",
   "metadata": {},
   "source": [
    "### Q3. How many movies in each genre got released in different release times?"
   ]
  },
  {
   "cell_type": "code",
   "execution_count": 22,
   "metadata": {},
   "outputs": [
    {
     "data": {
      "text/html": [
       "<div>\n",
       "<style scoped>\n",
       "    .dataframe tbody tr th:only-of-type {\n",
       "        vertical-align: middle;\n",
       "    }\n",
       "\n",
       "    .dataframe tbody tr th {\n",
       "        vertical-align: top;\n",
       "    }\n",
       "\n",
       "    .dataframe thead th {\n",
       "        text-align: right;\n",
       "    }\n",
       "</style>\n",
       "<table border=\"1\" class=\"dataframe\">\n",
       "  <thead>\n",
       "    <tr style=\"text-align: right;\">\n",
       "      <th></th>\n",
       "      <th></th>\n",
       "      <th>Movie_Counts</th>\n",
       "    </tr>\n",
       "    <tr>\n",
       "      <th>Release_Time</th>\n",
       "      <th>Genre</th>\n",
       "      <th></th>\n",
       "    </tr>\n",
       "  </thead>\n",
       "  <tbody>\n",
       "    <tr>\n",
       "      <th rowspan=\"5\" valign=\"top\">1</th>\n",
       "      <th>Action</th>\n",
       "      <td>3</td>\n",
       "    </tr>\n",
       "    <tr>\n",
       "      <th>Comedy</th>\n",
       "      <td>3</td>\n",
       "    </tr>\n",
       "    <tr>\n",
       "      <th>Drama</th>\n",
       "      <td>4</td>\n",
       "    </tr>\n",
       "    <tr>\n",
       "      <th>Romance</th>\n",
       "      <td>3</td>\n",
       "    </tr>\n",
       "    <tr>\n",
       "      <th>Thriller</th>\n",
       "      <td>4</td>\n",
       "    </tr>\n",
       "    <tr>\n",
       "      <th rowspan=\"5\" valign=\"top\">2</th>\n",
       "      <th>Action</th>\n",
       "      <td>3</td>\n",
       "    </tr>\n",
       "    <tr>\n",
       "      <th>Comedy</th>\n",
       "      <td>5</td>\n",
       "    </tr>\n",
       "    <tr>\n",
       "      <th>Drama</th>\n",
       "      <td>6</td>\n",
       "    </tr>\n",
       "    <tr>\n",
       "      <th>Romance</th>\n",
       "      <td>3</td>\n",
       "    </tr>\n",
       "    <tr>\n",
       "      <th>Thriller</th>\n",
       "      <td>1</td>\n",
       "    </tr>\n",
       "    <tr>\n",
       "      <th rowspan=\"5\" valign=\"top\">3</th>\n",
       "      <th>Action</th>\n",
       "      <td>3</td>\n",
       "    </tr>\n",
       "    <tr>\n",
       "      <th>Comedy</th>\n",
       "      <td>5</td>\n",
       "    </tr>\n",
       "    <tr>\n",
       "      <th>Drama</th>\n",
       "      <td>1</td>\n",
       "    </tr>\n",
       "    <tr>\n",
       "      <th>Romance</th>\n",
       "      <td>4</td>\n",
       "    </tr>\n",
       "    <tr>\n",
       "      <th>Thriller</th>\n",
       "      <td>2</td>\n",
       "    </tr>\n",
       "    <tr>\n",
       "      <th rowspan=\"5\" valign=\"top\">4</th>\n",
       "      <th>Action</th>\n",
       "      <td>15</td>\n",
       "    </tr>\n",
       "    <tr>\n",
       "      <th>Comedy</th>\n",
       "      <td>23</td>\n",
       "    </tr>\n",
       "    <tr>\n",
       "      <th>Drama</th>\n",
       "      <td>24</td>\n",
       "    </tr>\n",
       "    <tr>\n",
       "      <th>Romance</th>\n",
       "      <td>15</td>\n",
       "    </tr>\n",
       "    <tr>\n",
       "      <th>Thriller</th>\n",
       "      <td>22</td>\n",
       "    </tr>\n",
       "  </tbody>\n",
       "</table>\n",
       "</div>"
      ],
      "text/plain": [
       "                       Movie_Counts\n",
       "Release_Time Genre                 \n",
       "1            Action               3\n",
       "             Comedy               3\n",
       "             Drama                4\n",
       "             Romance              3\n",
       "             Thriller             4\n",
       "2            Action               3\n",
       "             Comedy               5\n",
       "             Drama                6\n",
       "             Romance              3\n",
       "             Thriller             1\n",
       "3            Action               3\n",
       "             Comedy               5\n",
       "             Drama                1\n",
       "             Romance              4\n",
       "             Thriller             2\n",
       "4            Action              15\n",
       "             Comedy              23\n",
       "             Drama               24\n",
       "             Romance             15\n",
       "             Thriller            22"
      ]
     },
     "execution_count": 22,
     "metadata": {},
     "output_type": "execute_result"
    }
   ],
   "source": [
    "data_source.groupby(['Release_Time','Genre',]).size().to_frame('Movie_Counts')"
   ]
  },
  {
   "cell_type": "markdown",
   "metadata": {},
   "source": [
    "### Q4. Which month of the year, maximum movie releases are seen?"
   ]
  },
  {
   "cell_type": "code",
   "execution_count": 38,
   "metadata": {},
   "outputs": [
    {
     "data": {
      "text/html": [
       "<div>\n",
       "<style scoped>\n",
       "    .dataframe tbody tr th:only-of-type {\n",
       "        vertical-align: middle;\n",
       "    }\n",
       "\n",
       "    .dataframe tbody tr th {\n",
       "        vertical-align: top;\n",
       "    }\n",
       "\n",
       "    .dataframe thead th {\n",
       "        text-align: right;\n",
       "    }\n",
       "</style>\n",
       "<table border=\"1\" class=\"dataframe\">\n",
       "  <thead>\n",
       "    <tr style=\"text-align: right;\">\n",
       "      <th></th>\n",
       "      <th>Movie_Counts</th>\n",
       "    </tr>\n",
       "    <tr>\n",
       "      <th>Release_Date</th>\n",
       "      <th></th>\n",
       "    </tr>\n",
       "  </thead>\n",
       "  <tbody>\n",
       "    <tr>\n",
       "      <th>2013</th>\n",
       "      <td>9</td>\n",
       "    </tr>\n",
       "    <tr>\n",
       "      <th>2014</th>\n",
       "      <td>12</td>\n",
       "    </tr>\n",
       "    <tr>\n",
       "      <th>2015</th>\n",
       "      <td>5</td>\n",
       "    </tr>\n",
       "  </tbody>\n",
       "</table>\n",
       "</div>"
      ],
      "text/plain": [
       "              Movie_Counts\n",
       "Release_Date              \n",
       "2013                     9\n",
       "2014                    12\n",
       "2015                     5"
      ]
     },
     "execution_count": 38,
     "metadata": {},
     "output_type": "execute_result"
    }
   ],
   "source": [
    "p_data = data_source.groupby([data_source.Release_Date.dt.year, data_source.Release_Date.dt.month]).size().to_frame('Movie_Counts')\n",
    "p_data.groupby(['Release_Date'], sort=False)['Movie_Counts'].max().to_frame('Movie_Counts')\n",
    "# data_source['date_year'] = data_source.groupby([data_source.Release_Date.dt.year]).size()\n",
    "# data_source['date_month'] = data_source.groupby([data_source.Release_Date.dt.month]).size()\n",
    "\n",
    "# data_source.groupby(['date_year','date_month']).size().count()\n",
    "\n",
    "# data_source.groupby([pd.DatetimeIndex(data_source['Release_Date']).year, pd.DatetimeIndex(data_source['Release_Date']).month]).size().to_frame('Movie_Counts')\n",
    "# date_groupby.groupby(['Release_Date']).agg({'Movie_Counts': max})\n",
    "\n",
    "\n",
    "# date_groupby = data_source.groupby([data_source.Release_Date.dt.year, data_source.Release_Date.dt.month]).size().to_frame('Movie_Counts')\n",
    "# date_groupby.groupby(['Release_Date']).agg({'Movie_Counts': max})\n",
    "\n",
    "# data_source.groupby([data_source.Release_Date.dt.month]).size()\n",
    "\n",
    "\n",
    "# data_source.groupby([data_source.Release_Date.dt.year, data_source.Release_Date.dt.month]).size().to_frame('Movie_Counts')\n",
    "# data_source.groupby([data_source.Release_Date.dt.year])['M'].transform(max)\n",
    "# data_source.groupby([data_source.Release_Date.dt.year, data_source.Release_Date.dt.month]).size().to_frame('Movie_Counts')[\"Movie_Counts\"].agg([\"max\", \"min\"])\n",
    "\n",
    "# data_source.groupby(data_source.Release_Date.dt.year)['']\n",
    "# data_source.groupby(data_source.Release_Date.dt.year)[''].agg(['sum','count'])\n",
    "# data_source.groupby([data_source['Release_Date'].dt.year, data_source['Release_Date'].dt.month]).agg({'count'})"
   ]
  },
  {
   "cell_type": "markdown",
   "metadata": {},
   "source": [
    "### Q5. Which month of the year typically sees most releases of high budgeted movies, that is, movies with budget of 25 crore or more? "
   ]
  },
  {
   "cell_type": "code",
   "execution_count": 45,
   "metadata": {},
   "outputs": [
    {
     "data": {
      "text/plain": [
       "Release_Date  Release_Date\n",
       "2013          7               True\n",
       "2014          2               True\n",
       "              3               True\n",
       "              4               True\n",
       "2015          1               True\n",
       "Name: Movie_Counts > 25Cr, dtype: bool"
      ]
     },
     "execution_count": 45,
     "metadata": {},
     "output_type": "execute_result"
    }
   ],
   "source": [
    "budget_source = data_source.query('Budget_in_Crore >= 25', inplace =False)\n",
    "temp = budget_source.groupby([data_source.Release_Date.dt.year, data_source.Release_Date.dt.month]).size().to_frame('Movie_Counts > 25Cr')\n",
    "month = temp.groupby(['Release_Date'], sort=False)['Movie_Counts > 25Cr'].transform(max) == temp['Movie_Counts > 25Cr']\n",
    "month.loc[month]\n",
    "\n",
    "\n",
    "# temp.groupby(['Release_Date'], sort=False)['Movie_Counts > 25Cr'].max().to_frame('Movie_Counts > 25Cr')\n",
    "# df.groupby(['Mt'])['count'].transform(max) == df['count']"
   ]
  },
  {
   "cell_type": "markdown",
   "metadata": {},
   "source": [
    "### Q6. Which are the top 10 movies with maximum return of investment (ROI)? Calculate ROI as (Box office collection – Budget) / Budget?"
   ]
  },
  {
   "cell_type": "code",
   "execution_count": 26,
   "metadata": {},
   "outputs": [
    {
     "data": {
      "text/html": [
       "<div>\n",
       "<style scoped>\n",
       "    .dataframe tbody tr th:only-of-type {\n",
       "        vertical-align: middle;\n",
       "    }\n",
       "\n",
       "    .dataframe tbody tr th {\n",
       "        vertical-align: top;\n",
       "    }\n",
       "\n",
       "    .dataframe thead th {\n",
       "        text-align: right;\n",
       "    }\n",
       "</style>\n",
       "<table border=\"1\" class=\"dataframe\">\n",
       "  <thead>\n",
       "    <tr style=\"text-align: right;\">\n",
       "      <th></th>\n",
       "      <th>Movie_Name</th>\n",
       "      <th>ROI</th>\n",
       "    </tr>\n",
       "  </thead>\n",
       "  <tbody>\n",
       "    <tr>\n",
       "      <th>0</th>\n",
       "      <td>Rajdhani Express</td>\n",
       "      <td>53.714286</td>\n",
       "    </tr>\n",
       "    <tr>\n",
       "      <th>1</th>\n",
       "      <td>Aashiqui 2</td>\n",
       "      <td>8.166667</td>\n",
       "    </tr>\n",
       "    <tr>\n",
       "      <th>2</th>\n",
       "      <td>PK</td>\n",
       "      <td>7.647059</td>\n",
       "    </tr>\n",
       "    <tr>\n",
       "      <th>3</th>\n",
       "      <td>Grand Masti</td>\n",
       "      <td>7.514286</td>\n",
       "    </tr>\n",
       "    <tr>\n",
       "      <th>4</th>\n",
       "      <td>The Lunchbox</td>\n",
       "      <td>7.500000</td>\n",
       "    </tr>\n",
       "    <tr>\n",
       "      <th>5</th>\n",
       "      <td>Fukrey</td>\n",
       "      <td>6.240000</td>\n",
       "    </tr>\n",
       "    <tr>\n",
       "      <th>6</th>\n",
       "      <td>Mary Kom</td>\n",
       "      <td>5.933333</td>\n",
       "    </tr>\n",
       "    <tr>\n",
       "      <th>7</th>\n",
       "      <td>Shahid</td>\n",
       "      <td>5.666667</td>\n",
       "    </tr>\n",
       "    <tr>\n",
       "      <th>8</th>\n",
       "      <td>Humpty Sharma Ki Dulhania</td>\n",
       "      <td>5.500000</td>\n",
       "    </tr>\n",
       "    <tr>\n",
       "      <th>9</th>\n",
       "      <td>Bhaag Milkha Bhaag</td>\n",
       "      <td>4.466667</td>\n",
       "    </tr>\n",
       "  </tbody>\n",
       "</table>\n",
       "</div>"
      ],
      "text/plain": [
       "                  Movie_Name        ROI\n",
       "0           Rajdhani Express  53.714286\n",
       "1                 Aashiqui 2   8.166667\n",
       "2                         PK   7.647059\n",
       "3                Grand Masti   7.514286\n",
       "4               The Lunchbox   7.500000\n",
       "5                     Fukrey   6.240000\n",
       "6                   Mary Kom   5.933333\n",
       "7                     Shahid   5.666667\n",
       "8  Humpty Sharma Ki Dulhania   5.500000\n",
       "9         Bhaag Milkha Bhaag   4.466667"
      ]
     },
     "execution_count": 26,
     "metadata": {},
     "output_type": "execute_result"
    }
   ],
   "source": [
    "data_source['ROI'] = (data_source['BoxOfficeCollection_in_Crore'] - data_source['Budget_in_Crore']) / data_source['Budget_in_Crore']\n",
    "data_source.nlargest(10, 'ROI').reset_index()[['Movie_Name', 'ROI']]"
   ]
  },
  {
   "cell_type": "code",
   "execution_count": null,
   "metadata": {},
   "outputs": [],
   "source": []
  },
  {
   "cell_type": "code",
   "execution_count": null,
   "metadata": {},
   "outputs": [],
   "source": []
  }
 ],
 "metadata": {
  "kernelspec": {
   "display_name": "Python 3",
   "language": "python",
   "name": "python3"
  },
  "language_info": {
   "codemirror_mode": {
    "name": "ipython",
    "version": 3
   },
   "file_extension": ".py",
   "mimetype": "text/x-python",
   "name": "python",
   "nbconvert_exporter": "python",
   "pygments_lexer": "ipython3",
   "version": "3.7.7"
  }
 },
 "nbformat": 4,
 "nbformat_minor": 4
}
